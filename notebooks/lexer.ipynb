{
 "cells": [
  {
   "cell_type": "code",
   "execution_count": 2,
   "id": "60ad950a",
   "metadata": {
    "ExecuteTime": {
     "end_time": "2022-04-09T16:03:27.536527Z",
     "start_time": "2022-04-09T16:03:27.533Z"
    }
   },
   "outputs": [
    {
     "ename": "Error",
     "evalue": "lox error",
     "output_type": "error",
     "traceback": [
      "\u001b[1;31mError\u001b[0m line 2, col 5: unexpected character: 😟\n\u001b[1;31mError\u001b[0m line 2, col 8: unexpected character: 😟\n\u001b[1;31mError\u001b[0m line 3, col 3: invalid string escape: \\a\n\u001b[1;31mError\u001b[0m line 4, col 1: unexpected end of input"
     ]
    }
   ],
   "source": [
    "// invalid program\n",
    "Hell😟 W😟orld\n",
    "\"\\a\n",
    "\""
   ]
  },
  {
   "cell_type": "code",
   "execution_count": 2,
   "id": "9dac7447",
   "metadata": {
    "ExecuteTime": {
     "end_time": "2022-04-20T14:24:28.298691Z",
     "start_time": "2022-04-20T14:24:28.295Z"
    }
   },
   "outputs": [
    {
     "data": {
      "text/plain": [
       "line:    1 type: Print        lexeme: print\n",
       "line:    1 type: String       lexeme: \"hell😎 w😎rld\"\n",
       "line:    1 type: Semicolon    lexeme: ;"
      ]
     },
     "execution_count": 2,
     "metadata": {},
     "output_type": "execute_result"
    }
   ],
   "source": [
    "print \"hell😎 w😎rld\";"
   ]
  },
  {
   "cell_type": "code",
   "execution_count": 3,
   "id": "dfa3daab",
   "metadata": {
    "ExecuteTime": {
     "end_time": "2022-04-20T14:24:28.889600Z",
     "start_time": "2022-04-20T14:24:28.887Z"
    }
   },
   "outputs": [
    {
     "data": {
      "text/plain": [
       "line:    1 type: Var          lexeme: var\n",
       "line:    1 type: Identifier   lexeme: 未知\n",
       "line:    1 type: Equal        lexeme: =\n",
       "line:    1 type: Number       lexeme: 42\n",
       "line:    1 type: Semicolon    lexeme: ;"
      ]
     },
     "execution_count": 3,
     "metadata": {},
     "output_type": "execute_result"
    }
   ],
   "source": [
    "var 未知 = 42;"
   ]
  },
  {
   "cell_type": "code",
   "execution_count": 5,
   "id": "77bf16e6",
   "metadata": {
    "ExecuteTime": {
     "end_time": "2022-04-09T16:04:03.614430Z",
     "start_time": "2022-04-09T16:04:03.612Z"
    }
   },
   "outputs": [
    {
     "data": {
      "text/plain": [
       "line:    5 type: Var          lexeme: var\n",
       "line:    5 type: Identifier   lexeme: π\n",
       "line:    5 type: Equal        lexeme: =\n",
       "line:    5 type: Number       lexeme: 3.1415926535\n",
       "line:    5 type: Semicolon    lexeme: ;\n",
       "line:    7 type: Identifier   lexeme: plot\n",
       "line:    7 type: LeftParen    lexeme: (\n",
       "line:    7 type: Identifier   lexeme: sin\n",
       "line:    7 type: LeftParen    lexeme: (\n",
       "line:    7 type: Number       lexeme: 2\n",
       "line:    7 type: Star         lexeme: *\n",
       "line:    7 type: Identifier   lexeme: π\n",
       "line:    7 type: Star         lexeme: *\n",
       "line:    7 type: Number       lexeme: 440\n",
       "line:    7 type: Slash        lexeme: /\n",
       "line:    7 type: Number       lexeme: 100\n",
       "line:    7 type: Star         lexeme: *\n",
       "line:    7 type: Identifier   lexeme: range\n",
       "line:    7 type: LeftParen    lexeme: (\n",
       "line:    7 type: Number       lexeme: 100\n",
       "line:    7 type: RightParen   lexeme: )\n",
       "line:    7 type: RightParen   lexeme: )\n",
       "line:    7 type: RightParen   lexeme: )\n",
       "line:    7 type: Semicolon    lexeme: ;"
      ]
     },
     "execution_count": 5,
     "metadata": {},
     "output_type": "execute_result"
    }
   ],
   "source": [
    "/**\n",
    "sinusoid plot\n",
    "*/\n",
    "\n",
    "var π = 3.1415926535;\n",
    "\n",
    "plot(sin(2 * π * 440 / 100 * range(100)));"
   ]
  },
  {
   "cell_type": "code",
   "execution_count": null,
   "id": "e67a438c",
   "metadata": {},
   "outputs": [],
   "source": []
  }
 ],
 "metadata": {
  "kernelspec": {
   "display_name": "Lox",
   "language": "lox",
   "name": "lox"
  },
  "language_info": {
   "codemirror_mode": "lox",
   "file_extension": ".lox",
   "mimetype": "text/lox",
   "name": "Lox",
   "pygment_lexer": "lox",
   "version": ""
  }
 },
 "nbformat": 4,
 "nbformat_minor": 5
}

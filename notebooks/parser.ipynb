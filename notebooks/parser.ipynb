{
 "cells": [
  {
   "cell_type": "code",
   "execution_count": 2,
   "id": "0d206be0",
   "metadata": {
    "ExecuteTime": {
     "end_time": "2022-04-12T20:59:32.062554Z",
     "start_time": "2022-04-12T20:59:32.059Z"
    }
   },
   "outputs": [
    {
     "ename": "Error",
     "evalue": "lox error",
     "output_type": "error",
     "traceback": [
      "\u001b[1;31mError:\u001b[0m\nline 2: expected literal or (, found Hell\nline 2, col 5: unexpected character: 😟\nline 2: expected literal or (, found W\nline 2, col 8: unexpected character: 😟\nline 2: expected literal or (, found orld\n"
     ]
    }
   ],
   "source": [
    "// invalid expression\n",
    "Hell😟 W😟orld"
   ]
  },
  {
   "cell_type": "code",
   "execution_count": 3,
   "id": "72bfb025",
   "metadata": {
    "ExecuteTime": {
     "end_time": "2022-04-12T20:59:32.789877Z",
     "start_time": "2022-04-12T20:59:32.787Z"
    }
   },
   "outputs": [
    {
     "ename": "Error",
     "evalue": "lox error",
     "output_type": "error",
     "traceback": [
      "\u001b[1;31mError:\u001b[0m\nline 2, col 1: unexpected character: 😟\nline 2, col 15: unexpected character: 😟\n"
     ]
    }
   ],
   "source": [
    "// valid expression with multiple errors\n",
    "😟; 2 + 2 == 5 😟;"
   ]
  },
  {
   "cell_type": "code",
   "execution_count": 4,
   "id": "60ad950a",
   "metadata": {
    "ExecuteTime": {
     "end_time": "2022-04-12T20:59:33.534359Z",
     "start_time": "2022-04-12T20:59:33.532Z"
    }
   },
   "outputs": [
    {
     "data": {
      "text/plain": [
       "2 + 2 == 5\n",
       "\n",
       "Binary(\n",
       "    Binary(\n",
       "        Literal(\n",
       "            Num(\n",
       "                2.0,\n",
       "            ),\n",
       "        ),\n",
       "        Token {\n",
       "            typ: Plus,\n",
       "            line: 1,\n",
       "            lexeme: \"+\",\n",
       "            literal: Nil,\n",
       "        },\n",
       "        Literal(\n",
       "            Num(\n",
       "                2.0,\n",
       "            ),\n",
       "        ),\n",
       "    ),\n",
       "    Token {\n",
       "        typ: EqualEqual,\n",
       "        line: 1,\n",
       "        lexeme: \"==\",\n",
       "        literal: Nil,\n",
       "    },\n",
       "    Literal(\n",
       "        Num(\n",
       "            5.0,\n",
       "        ),\n",
       "    ),\n",
       ")"
      ]
     },
     "execution_count": 4,
     "metadata": {},
     "output_type": "execute_result"
    }
   ],
   "source": [
    "2 + 2 == 5"
   ]
  },
  {
   "cell_type": "code",
   "execution_count": 5,
   "id": "e67a438c",
   "metadata": {
    "ExecuteTime": {
     "end_time": "2022-04-12T20:59:34.133844Z",
     "start_time": "2022-04-12T20:59:34.131Z"
    }
   },
   "outputs": [
    {
     "data": {
      "text/plain": [
       "1 + 2 + 3\n",
       "\n",
       "Binary(\n",
       "    Binary(\n",
       "        Literal(\n",
       "            Num(\n",
       "                1.0,\n",
       "            ),\n",
       "        ),\n",
       "        Token {\n",
       "            typ: Plus,\n",
       "            line: 1,\n",
       "            lexeme: \"+\",\n",
       "            literal: Nil,\n",
       "        },\n",
       "        Literal(\n",
       "            Num(\n",
       "                2.0,\n",
       "            ),\n",
       "        ),\n",
       "    ),\n",
       "    Token {\n",
       "        typ: Plus,\n",
       "        line: 1,\n",
       "        lexeme: \"+\",\n",
       "        literal: Nil,\n",
       "    },\n",
       "    Literal(\n",
       "        Num(\n",
       "            3.0,\n",
       "        ),\n",
       "    ),\n",
       ")"
      ]
     },
     "execution_count": 5,
     "metadata": {},
     "output_type": "execute_result"
    }
   ],
   "source": [
    "1 + 2 + 3"
   ]
  },
  {
   "cell_type": "code",
   "execution_count": 6,
   "id": "f2d857d1",
   "metadata": {
    "ExecuteTime": {
     "end_time": "2022-04-12T20:59:34.805171Z",
     "start_time": "2022-04-12T20:59:34.802Z"
    }
   },
   "outputs": [
    {
     "data": {
      "text/plain": [
       "nil + (\"nil\" + nil) != nil\n",
       "\n",
       "Binary(\n",
       "    Binary(\n",
       "        Literal(\n",
       "            Nil,\n",
       "        ),\n",
       "        Token {\n",
       "            typ: Plus,\n",
       "            line: 1,\n",
       "            lexeme: \"+\",\n",
       "            literal: Nil,\n",
       "        },\n",
       "        Grouping(\n",
       "            Binary(\n",
       "                Literal(\n",
       "                    Str(\n",
       "                        \"nil\",\n",
       "                    ),\n",
       "                ),\n",
       "                Token {\n",
       "                    typ: Plus,\n",
       "                    line: 1,\n",
       "                    lexeme: \"+\",\n",
       "                    literal: Nil,\n",
       "                },\n",
       "                Literal(\n",
       "                    Nil,\n",
       "                ),\n",
       "            ),\n",
       "        ),\n",
       "    ),\n",
       "    Token {\n",
       "        typ: BangEqual,\n",
       "        line: 1,\n",
       "        lexeme: \"!=\",\n",
       "        literal: Nil,\n",
       "    },\n",
       "    Literal(\n",
       "        Nil,\n",
       "    ),\n",
       ")"
      ]
     },
     "execution_count": 6,
     "metadata": {},
     "output_type": "execute_result"
    }
   ],
   "source": [
    "nil + (\"nil\" + nil) != nil"
   ]
  },
  {
   "cell_type": "code",
   "execution_count": 7,
   "id": "983c3cb6",
   "metadata": {
    "ExecuteTime": {
     "end_time": "2022-04-12T20:59:35.549933Z",
     "start_time": "2022-04-12T20:59:35.547Z"
    }
   },
   "outputs": [
    {
     "data": {
      "text/plain": [
       "1 == 2 < 3 + 4 * -5\n",
       "\n",
       "Binary(\n",
       "    Literal(\n",
       "        Num(\n",
       "            1.0,\n",
       "        ),\n",
       "    ),\n",
       "    Token {\n",
       "        typ: EqualEqual,\n",
       "        line: 1,\n",
       "        lexeme: \"==\",\n",
       "        literal: Nil,\n",
       "    },\n",
       "    Binary(\n",
       "        Literal(\n",
       "            Num(\n",
       "                2.0,\n",
       "            ),\n",
       "        ),\n",
       "        Token {\n",
       "            typ: Less,\n",
       "            line: 1,\n",
       "            lexeme: \"<\",\n",
       "            literal: Nil,\n",
       "        },\n",
       "        Binary(\n",
       "            Literal(\n",
       "                Num(\n",
       "                    3.0,\n",
       "                ),\n",
       "            ),\n",
       "            Token {\n",
       "                typ: Plus,\n",
       "                line: 1,\n",
       "                lexeme: \"+\",\n",
       "                literal: Nil,\n",
       "            },\n",
       "            Binary(\n",
       "                Literal(\n",
       "                    Num(\n",
       "                        4.0,\n",
       "                    ),\n",
       "                ),\n",
       "                Token {\n",
       "                    typ: Star,\n",
       "                    line: 1,\n",
       "                    lexeme: \"*\",\n",
       "                    literal: Nil,\n",
       "                },\n",
       "                Unary(\n",
       "                    Token {\n",
       "                        typ: Minus,\n",
       "                        line: 1,\n",
       "                        lexeme: \"-\",\n",
       "                        literal: Nil,\n",
       "                    },\n",
       "                    Literal(\n",
       "                        Num(\n",
       "                            5.0,\n",
       "                        ),\n",
       "                    ),\n",
       "                ),\n",
       "            ),\n",
       "        ),\n",
       "    ),\n",
       ")"
      ]
     },
     "execution_count": 7,
     "metadata": {},
     "output_type": "execute_result"
    }
   ],
   "source": [
    "1 == 2 < 3 + 4 * -5"
   ]
  },
  {
   "cell_type": "code",
   "execution_count": null,
   "id": "978cfa55",
   "metadata": {},
   "outputs": [],
   "source": []
  }
 ],
 "metadata": {
  "kernelspec": {
   "display_name": "Lox",
   "language": "lox",
   "name": "lox"
  },
  "language_info": {
   "codemirror_mode": "lox",
   "file_extension": ".lox",
   "mimetype": "text/lox",
   "name": "Lox",
   "pygment_lexer": "lox",
   "version": ""
  }
 },
 "nbformat": 4,
 "nbformat_minor": 5
}

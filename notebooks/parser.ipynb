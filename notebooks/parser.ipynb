{
 "cells": [
  {
   "cell_type": "code",
   "execution_count": 2,
   "id": "0d206be0",
   "metadata": {
    "ExecuteTime": {
     "end_time": "2022-04-25T13:58:25.269712Z",
     "start_time": "2022-04-25T13:58:25.266Z"
    }
   },
   "outputs": [
    {
     "ename": "Error",
     "evalue": "lox error",
     "output_type": "error",
     "traceback": [
      "\u001b[1;31mError:\u001b[0m\nline 2, col 5: unexpected character: 😟\nline 2, col 8: unexpected character: 😟\n"
     ]
    }
   ],
   "source": [
    "// invalid statement with multiple errors\n",
    "Hell😟;W😟orld"
   ]
  },
  {
   "cell_type": "code",
   "execution_count": 3,
   "id": "72bfb025",
   "metadata": {
    "ExecuteTime": {
     "end_time": "2022-04-25T13:58:25.667233Z",
     "start_time": "2022-04-25T13:58:25.664Z"
    }
   },
   "outputs": [
    {
     "ename": "Error",
     "evalue": "lox error",
     "output_type": "error",
     "traceback": [
      "\u001b[1;31mError:\u001b[0m\nline 2, col 1: unexpected character: 😟\nline 2, col 16: unexpected character: 😟\n"
     ]
    }
   ],
   "source": [
    "// valid statement with multiple errors\n",
    "😟; 2 + 2 == 5; 😟;"
   ]
  },
  {
   "cell_type": "code",
   "execution_count": 4,
   "id": "60ad950a",
   "metadata": {
    "ExecuteTime": {
     "end_time": "2022-04-25T13:58:26.134296Z",
     "start_time": "2022-04-25T13:58:26.131Z"
    }
   },
   "outputs": [
    {
     "data": {
      "text/plain": [
       "Program {\n",
       "    statements: [\n",
       "        Expr(\n",
       "            Binary(\n",
       "                Binary(\n",
       "                    Literal(\n",
       "                        Num(\n",
       "                            2.0,\n",
       "                        ),\n",
       "                    ),\n",
       "                    Token {\n",
       "                        typ: Plus,\n",
       "                        line: 2,\n",
       "                        lexeme: \"+\",\n",
       "                        literal: Nil,\n",
       "                    },\n",
       "                    Literal(\n",
       "                        Num(\n",
       "                            2.0,\n",
       "                        ),\n",
       "                    ),\n",
       "                ),\n",
       "                Token {\n",
       "                    typ: EqualEqual,\n",
       "                    line: 2,\n",
       "                    lexeme: \"==\",\n",
       "                    literal: Nil,\n",
       "                },\n",
       "                Literal(\n",
       "                    Num(\n",
       "                        5.0,\n",
       "                    ),\n",
       "                ),\n",
       "            ),\n",
       "        ),\n",
       "    ],\n",
       "}"
      ]
     },
     "execution_count": 4,
     "metadata": {},
     "output_type": "execute_result"
    }
   ],
   "source": [
    "// expression statement\n",
    "2 + 2 == 5"
   ]
  },
  {
   "cell_type": "code",
   "execution_count": 5,
   "id": "b4778394",
   "metadata": {
    "ExecuteTime": {
     "end_time": "2022-04-25T13:58:27.804323Z",
     "start_time": "2022-04-25T13:58:27.802Z"
    }
   },
   "outputs": [
    {
     "data": {
      "text/plain": [
       "Program {\n",
       "    statements: [\n",
       "        Print(\n",
       "            Variable(\n",
       "                Token {\n",
       "                    typ: Identifier,\n",
       "                    line: 2,\n",
       "                    lexeme: \"x\",\n",
       "                    literal: Nil,\n",
       "                },\n",
       "            ),\n",
       "        ),\n",
       "    ],\n",
       "}"
      ]
     },
     "execution_count": 5,
     "metadata": {},
     "output_type": "execute_result"
    }
   ],
   "source": [
    "// print statement\n",
    "print x;"
   ]
  },
  {
   "cell_type": "code",
   "execution_count": 6,
   "id": "e67a438c",
   "metadata": {
    "ExecuteTime": {
     "end_time": "2022-04-25T13:58:28.596835Z",
     "start_time": "2022-04-25T13:58:28.594Z"
    }
   },
   "outputs": [
    {
     "data": {
      "text/plain": [
       "Program {\n",
       "    statements: [\n",
       "        Decl(\n",
       "            Token {\n",
       "                typ: Identifier,\n",
       "                line: 2,\n",
       "                lexeme: \"x\",\n",
       "                literal: Nil,\n",
       "            },\n",
       "            Binary(\n",
       "                Binary(\n",
       "                    Literal(\n",
       "                        Num(\n",
       "                            1.0,\n",
       "                        ),\n",
       "                    ),\n",
       "                    Token {\n",
       "                        typ: Plus,\n",
       "                        line: 2,\n",
       "                        lexeme: \"+\",\n",
       "                        literal: Nil,\n",
       "                    },\n",
       "                    Literal(\n",
       "                        Num(\n",
       "                            2.0,\n",
       "                        ),\n",
       "                    ),\n",
       "                ),\n",
       "                Token {\n",
       "                    typ: Plus,\n",
       "                    line: 2,\n",
       "                    lexeme: \"+\",\n",
       "                    literal: Nil,\n",
       "                },\n",
       "                Literal(\n",
       "                    Num(\n",
       "                        3.0,\n",
       "                    ),\n",
       "                ),\n",
       "            ),\n",
       "        ),\n",
       "        Decl(\n",
       "            Token {\n",
       "                typ: Identifier,\n",
       "                line: 3,\n",
       "                lexeme: \"y\",\n",
       "                literal: Nil,\n",
       "            },\n",
       "            Binary(\n",
       "                Variable(\n",
       "                    Token {\n",
       "                        typ: Identifier,\n",
       "                        line: 3,\n",
       "                        lexeme: \"x\",\n",
       "                        literal: Nil,\n",
       "                    },\n",
       "                ),\n",
       "                Token {\n",
       "                    typ: EqualEqual,\n",
       "                    line: 3,\n",
       "                    lexeme: \"==\",\n",
       "                    literal: Nil,\n",
       "                },\n",
       "                Literal(\n",
       "                    Num(\n",
       "                        6.0,\n",
       "                    ),\n",
       "                ),\n",
       "            ),\n",
       "        ),\n",
       "        Decl(\n",
       "            Token {\n",
       "                typ: Identifier,\n",
       "                line: 4,\n",
       "                lexeme: \"z\",\n",
       "                literal: Nil,\n",
       "            },\n",
       "            Literal(\n",
       "                Nil,\n",
       "            ),\n",
       "        ),\n",
       "    ],\n",
       "}"
      ]
     },
     "execution_count": 6,
     "metadata": {},
     "output_type": "execute_result"
    }
   ],
   "source": [
    "// declaration statement\n",
    "var x = 1 + 2 + 3;\n",
    "var y = x == 6;\n",
    "var z;"
   ]
  },
  {
   "cell_type": "code",
   "execution_count": 8,
   "id": "1e6f5efb",
   "metadata": {
    "ExecuteTime": {
     "end_time": "2022-04-25T13:58:51.956621Z",
     "start_time": "2022-04-25T13:58:51.954Z"
    }
   },
   "outputs": [
    {
     "data": {
      "text/plain": [
       "Program {\n",
       "    statements: [\n",
       "        Decl(\n",
       "            Token {\n",
       "                typ: Identifier,\n",
       "                line: 2,\n",
       "                lexeme: \"x\",\n",
       "                literal: Nil,\n",
       "            },\n",
       "            Literal(\n",
       "                Num(\n",
       "                    1.0,\n",
       "                ),\n",
       "            ),\n",
       "        ),\n",
       "        Expr(\n",
       "            Assignment(\n",
       "                Token {\n",
       "                    typ: Identifier,\n",
       "                    line: 3,\n",
       "                    lexeme: \"x\",\n",
       "                    literal: Nil,\n",
       "                },\n",
       "                Binary(\n",
       "                    Variable(\n",
       "                        Token {\n",
       "                            typ: Identifier,\n",
       "                            line: 3,\n",
       "                            lexeme: \"x\",\n",
       "                            literal: Nil,\n",
       "                        },\n",
       "                    ),\n",
       "                    Token {\n",
       "                        typ: Plus,\n",
       "                        line: 3,\n",
       "                        lexeme: \"+\",\n",
       "                        literal: Nil,\n",
       "                    },\n",
       "                    Literal(\n",
       "                        Num(\n",
       "                            1.0,\n",
       "                        ),\n",
       "                    ),\n",
       "                ),\n",
       "            ),\n",
       "        ),\n",
       "    ],\n",
       "}"
      ]
     },
     "execution_count": 8,
     "metadata": {},
     "output_type": "execute_result"
    }
   ],
   "source": [
    "// assignment statement\n",
    "var x = 1;\n",
    "x = x + 1;"
   ]
  }
 ],
 "metadata": {
  "kernelspec": {
   "display_name": "Lox",
   "language": "lox",
   "name": "lox"
  },
  "language_info": {
   "codemirror_mode": "lox",
   "file_extension": ".lox",
   "mimetype": "text/lox",
   "name": "Lox",
   "pygment_lexer": "lox",
   "version": ""
  }
 },
 "nbformat": 4,
 "nbformat_minor": 5
}

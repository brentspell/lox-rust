{
 "cells": [
  {
   "cell_type": "code",
   "execution_count": 12,
   "id": "1edeb11e",
   "metadata": {
    "ExecuteTime": {
     "end_time": "2022-04-18T13:43:38.415038Z",
     "start_time": "2022-04-18T13:43:38.413Z"
    }
   },
   "outputs": [
    {
     "ename": "Error",
     "evalue": "lox error",
     "output_type": "error",
     "traceback": [
      "\u001b[1;31mError:\u001b[0m\nline 1, col 1: unexpected character: 😟\n"
     ]
    }
   ],
   "source": [
    "😟"
   ]
  },
  {
   "cell_type": "code",
   "execution_count": 10,
   "id": "057e898a",
   "metadata": {
    "ExecuteTime": {
     "end_time": "2022-04-18T13:43:18.285747Z",
     "start_time": "2022-04-18T13:43:18.283Z"
    }
   },
   "outputs": [
    {
     "ename": "Error",
     "evalue": "lox error",
     "output_type": "error",
     "traceback": [
      "\u001b[1;31mError:\u001b[0m\nline 1: expected numbers, found: \"nil\" + nil"
     ]
    }
   ],
   "source": [
    "\"n\"+\"i\"+\"l\" + nil"
   ]
  },
  {
   "cell_type": "code",
   "execution_count": 16,
   "id": "0937f440",
   "metadata": {
    "ExecuteTime": {
     "end_time": "2022-04-18T13:44:16.470450Z",
     "start_time": "2022-04-18T13:44:16.468Z"
    }
   },
   "outputs": [
    {
     "ename": "Error",
     "evalue": "lox error",
     "output_type": "error",
     "traceback": [
      "\u001b[1;31mError:\u001b[0m\nline 1: expected numbers or strings, found: false < true"
     ]
    }
   ],
   "source": [
    "false < true"
   ]
  },
  {
   "cell_type": "code",
   "execution_count": 13,
   "id": "30992fea",
   "metadata": {
    "ExecuteTime": {
     "end_time": "2022-04-18T13:43:48.981936Z",
     "start_time": "2022-04-18T13:43:48.979Z"
    }
   },
   "outputs": [
    {
     "data": {
      "text/plain": [
       "9"
      ]
     },
     "execution_count": 13,
     "metadata": {},
     "output_type": "execute_result"
    }
   ],
   "source": [
    "(1 + 2) * 3"
   ]
  },
  {
   "cell_type": "code",
   "execution_count": 26,
   "id": "160c98c0",
   "metadata": {
    "ExecuteTime": {
     "end_time": "2022-04-18T13:47:39.673959Z",
     "start_time": "2022-04-18T13:47:39.671Z"
    }
   },
   "outputs": [
    {
     "data": {
      "text/plain": [
       "3.1415929203539825"
      ]
     },
     "execution_count": 26,
     "metadata": {},
     "output_type": "execute_result"
    }
   ],
   "source": [
    "-355 / -113"
   ]
  },
  {
   "cell_type": "code",
   "execution_count": 11,
   "id": "e4b74824",
   "metadata": {
    "ExecuteTime": {
     "end_time": "2022-04-18T13:43:20.389822Z",
     "start_time": "2022-04-18T13:43:20.387Z"
    }
   },
   "outputs": [
    {
     "data": {
      "text/plain": [
       "inf"
      ]
     },
     "execution_count": 11,
     "metadata": {},
     "output_type": "execute_result"
    }
   ],
   "source": [
    "1/0"
   ]
  },
  {
   "cell_type": "code",
   "execution_count": 14,
   "id": "9f205044",
   "metadata": {
    "ExecuteTime": {
     "end_time": "2022-04-18T13:44:02.534327Z",
     "start_time": "2022-04-18T13:44:02.532Z"
    }
   },
   "outputs": [
    {
     "data": {
      "text/plain": [
       "false"
      ]
     },
     "execution_count": 14,
     "metadata": {},
     "output_type": "execute_result"
    }
   ],
   "source": [
    "true == 1"
   ]
  },
  {
   "cell_type": "code",
   "execution_count": 22,
   "id": "6d59c40d",
   "metadata": {
    "ExecuteTime": {
     "end_time": "2022-04-18T13:46:55.097207Z",
     "start_time": "2022-04-18T13:46:55.095Z"
    }
   },
   "outputs": [
    {
     "data": {
      "text/plain": [
       "false"
      ]
     },
     "execution_count": 22,
     "metadata": {},
     "output_type": "execute_result"
    }
   ],
   "source": [
    "nil == false"
   ]
  },
  {
   "cell_type": "code",
   "execution_count": 19,
   "id": "b33f2574",
   "metadata": {
    "ExecuteTime": {
     "end_time": "2022-04-18T13:45:12.959524Z",
     "start_time": "2022-04-18T13:45:12.957Z"
    }
   },
   "outputs": [
    {
     "data": {
      "text/plain": [
       "true"
      ]
     },
     "execution_count": 19,
     "metadata": {},
     "output_type": "execute_result"
    }
   ],
   "source": [
    "(1 == 2) == (3 == 4)"
   ]
  }
 ],
 "metadata": {
  "kernelspec": {
   "display_name": "Lox",
   "language": "lox",
   "name": "lox"
  },
  "language_info": {
   "codemirror_mode": "lox",
   "file_extension": ".lox",
   "mimetype": "text/lox",
   "name": "Lox",
   "pygment_lexer": "lox",
   "version": ""
  }
 },
 "nbformat": 4,
 "nbformat_minor": 5
}

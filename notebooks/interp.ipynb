{
 "cells": [
  {
   "cell_type": "code",
   "execution_count": 10,
   "id": "21adcafb",
   "metadata": {
    "ExecuteTime": {
     "end_time": "2022-04-29T22:30:03.749276Z",
     "start_time": "2022-04-29T22:30:03.747Z"
    }
   },
   "outputs": [
    {
     "data": {
      "text/plain": [
       "1\n"
      ]
     },
     "execution_count": 10,
     "metadata": {},
     "output_type": "execute_result"
    }
   ],
   "source": [
    "print 1 or invalid;"
   ]
  },
  {
   "cell_type": "code",
   "execution_count": 13,
   "id": "6ff5885c",
   "metadata": {
    "ExecuteTime": {
     "end_time": "2022-04-29T22:30:38.668831Z",
     "start_time": "2022-04-29T22:30:38.666Z"
    }
   },
   "outputs": [
    {
     "data": {
      "text/plain": [
       "true\n"
      ]
     },
     "execution_count": 13,
     "metadata": {},
     "output_type": "execute_result"
    }
   ],
   "source": [
    "if (true) {\n",
    "    print \"true\";\n",
    "}"
   ]
  },
  {
   "cell_type": "code",
   "execution_count": 17,
   "id": "116d6393",
   "metadata": {
    "ExecuteTime": {
     "end_time": "2022-04-29T22:31:26.564244Z",
     "start_time": "2022-04-29T22:31:26.561Z"
    }
   },
   "outputs": [
    {
     "data": {
      "text/plain": [
       "true\n"
      ]
     },
     "execution_count": 17,
     "metadata": {},
     "output_type": "execute_result"
    }
   ],
   "source": [
    "if (\"yes\" or true and false) {\n",
    "    print \"true\";\n",
    "} else {\n",
    "    print \"false\";\n",
    "}"
   ]
  },
  {
   "cell_type": "code",
   "execution_count": 2,
   "id": "a3c31cbd",
   "metadata": {
    "ExecuteTime": {
     "end_time": "2022-04-29T22:28:55.258250Z",
     "start_time": "2022-04-29T22:28:55.255Z"
    }
   },
   "outputs": [
    {
     "data": {
      "text/plain": [
       "0\n",
       "1\n",
       "2\n",
       "3\n",
       "4\n",
       "5\n",
       "6\n",
       "7\n",
       "8\n",
       "9\n"
      ]
     },
     "execution_count": 2,
     "metadata": {},
     "output_type": "execute_result"
    }
   ],
   "source": [
    "// simple loop\n",
    "var x = 0;\n",
    "while (x < 10) {\n",
    "    print x;\n",
    "    x = x + 1;\n",
    "}"
   ]
  },
  {
   "cell_type": "code",
   "execution_count": 3,
   "id": "7076fe9c",
   "metadata": {
    "ExecuteTime": {
     "end_time": "2022-04-29T22:28:55.683511Z",
     "start_time": "2022-04-29T22:28:55.681Z"
    }
   },
   "outputs": [
    {
     "data": {
      "text/plain": [
       "hello\n"
      ]
     },
     "execution_count": 3,
     "metadata": {},
     "output_type": "execute_result"
    }
   ],
   "source": [
    "// infinite loop\n",
    "for (;;) {\n",
    "    print \"hello\";\n",
    "    break;\n",
    "}"
   ]
  },
  {
   "cell_type": "code",
   "execution_count": 4,
   "id": "dc95eb25",
   "metadata": {
    "ExecuteTime": {
     "end_time": "2022-04-29T22:28:56.162253Z",
     "start_time": "2022-04-29T22:28:56.159Z"
    }
   },
   "outputs": [
    {
     "data": {
      "text/plain": [
       "0\n",
       "0\n",
       "1\n",
       "1\n",
       "0\n",
       "1\n"
      ]
     },
     "execution_count": 4,
     "metadata": {},
     "output_type": "execute_result"
    }
   ],
   "source": [
    "// nested broken loops\n",
    "for (var x = 0; x < 10; x = x + 1) {\n",
    "    if (x == 2)\n",
    "        break;\n",
    "    print x;\n",
    "    for (var y = 0; y < 10; y = y + 1) {\n",
    "        if (y == 2)\n",
    "            break;\n",
    "        print y;\n",
    "    }\n",
    "}\n"
   ]
  },
  {
   "cell_type": "code",
   "execution_count": 5,
   "id": "dc524c5a",
   "metadata": {
    "ExecuteTime": {
     "end_time": "2022-04-29T22:28:56.602135Z",
     "start_time": "2022-04-29T22:28:56.599Z"
    }
   },
   "outputs": [
    {
     "data": {
      "text/plain": [
       "0\n",
       "0\n",
       "1\n",
       "2\n",
       "3\n",
       "4\n",
       "5\n",
       "6\n",
       "7\n",
       "8\n",
       "9\n"
      ]
     },
     "execution_count": 5,
     "metadata": {},
     "output_type": "execute_result"
    }
   ],
   "source": [
    "// for loop with continue\n",
    "for (var x = 0; x < 10; x = x + 1) {\n",
    "    print x;\n",
    "    if (x > 0)\n",
    "        continue;\n",
    "    print x;\n",
    "}\n"
   ]
  },
  {
   "cell_type": "code",
   "execution_count": null,
   "id": "b563b6ff",
   "metadata": {},
   "outputs": [],
   "source": []
  }
 ],
 "metadata": {
  "kernelspec": {
   "display_name": "Lox",
   "language": "lox",
   "name": "lox"
  },
  "language_info": {
   "codemirror_mode": "lox",
   "file_extension": ".lox",
   "mimetype": "text/lox",
   "name": "Lox",
   "pygment_lexer": "lox",
   "version": ""
  }
 },
 "nbformat": 4,
 "nbformat_minor": 5
}

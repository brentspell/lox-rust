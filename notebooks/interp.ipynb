{
 "cells": [
  {
   "cell_type": "code",
   "execution_count": 9,
   "id": "04167fea",
   "metadata": {
    "ExecuteTime": {
     "end_time": "2022-05-16T20:21:43.927084Z",
     "start_time": "2022-05-16T20:21:43.924Z"
    }
   },
   "outputs": [
    {
     "data": {
      "text/plain": []
     },
     "execution_count": 9,
     "metadata": {},
     "output_type": "execute_result"
    }
   ],
   "source": [
    "var y = 3;\n",
    "fun test(x) {\n",
    "    return x + y;\n",
    "}"
   ]
  },
  {
   "cell_type": "code",
   "execution_count": 10,
   "id": "ee4f1278",
   "metadata": {
    "ExecuteTime": {
     "end_time": "2022-05-16T20:21:44.054695Z",
     "start_time": "2022-05-16T20:21:44.051Z"
    }
   },
   "outputs": [
    {
     "name": "stdout",
     "output_type": "stream",
     "text": [
      "23\n",
      "24\n"
     ]
    },
    {
     "data": {
      "text/plain": []
     },
     "execution_count": 10,
     "metadata": {},
     "output_type": "execute_result"
    }
   ],
   "source": [
    "y = 3;\n",
    "print test(20);\n",
    "y = 4;\n",
    "print test(20);"
   ]
  },
  {
   "cell_type": "code",
   "execution_count": 25,
   "id": "5a8a54da",
   "metadata": {
    "ExecuteTime": {
     "end_time": "2022-05-16T20:37:48.731767Z",
     "start_time": "2022-05-16T20:37:48.718Z"
    }
   },
   "outputs": [
    {
     "name": "stdout",
     "output_type": "stream",
     "text": [
      "0\n",
      "1\n",
      "1\n",
      "2\n",
      "3\n",
      "5\n",
      "8\n",
      "13\n",
      "21\n",
      "34\n"
     ]
    },
    {
     "data": {
      "text/plain": []
     },
     "execution_count": 25,
     "metadata": {},
     "output_type": "execute_result"
    }
   ],
   "source": [
    "fun fibonacci(n) {\n",
    "    if (n > 1) {\n",
    "        return fibonacci(n - 2) + fibonacci(n - 1);\n",
    "    } else {\n",
    "        return n;\n",
    "    }\n",
    "}\n",
    "\n",
    "for (var i = 0; i < 10; i = i + 1) {\n",
    "    print fibonacci(i);\n",
    "}\n"
   ]
  },
  {
   "cell_type": "code",
   "execution_count": 11,
   "id": "dca2aaf6",
   "metadata": {
    "ExecuteTime": {
     "end_time": "2022-05-16T20:21:44.758406Z",
     "start_time": "2022-05-16T20:21:44.755Z"
    }
   },
   "outputs": [
    {
     "name": "stdout",
     "output_type": "stream",
     "text": [
      "global\n",
      "block\n"
     ]
    },
    {
     "data": {
      "text/plain": []
     },
     "execution_count": 11,
     "metadata": {},
     "output_type": "execute_result"
    }
   ],
   "source": [
    "var a = \"global\";\n",
    "{\n",
    "    fun showA() {\n",
    "        print a;\n",
    "    }\n",
    "    \n",
    "    showA();\n",
    "    var a = \"block\";\n",
    "    showA();\n",
    "}\n"
   ]
  },
  {
   "cell_type": "code",
   "execution_count": null,
   "id": "5d495274",
   "metadata": {},
   "outputs": [],
   "source": []
  }
 ],
 "metadata": {
  "kernelspec": {
   "display_name": "Lox",
   "language": "lox",
   "name": "lox"
  },
  "language_info": {
   "codemirror_mode": "lox",
   "file_extension": ".lox",
   "mimetype": "text/lox",
   "name": "Lox",
   "pygment_lexer": "lox",
   "version": ""
  }
 },
 "nbformat": 4,
 "nbformat_minor": 5
}

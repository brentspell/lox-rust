{
 "cells": [
  {
   "cell_type": "code",
   "execution_count": 2,
   "id": "088d8409",
   "metadata": {
    "ExecuteTime": {
     "end_time": "2022-04-26T00:14:56.492352Z",
     "start_time": "2022-04-26T00:14:56.489Z"
    }
   },
   "outputs": [
    {
     "ename": "Error",
     "evalue": "lox error",
     "output_type": "error",
     "traceback": [
      "\u001b[1;31mError:\u001b[0m\nline 2: undefined variable y"
     ]
    }
   ],
   "source": [
    "// undefined retrieval\n",
    "print y;"
   ]
  },
  {
   "cell_type": "code",
   "execution_count": 3,
   "id": "02a4d6e8",
   "metadata": {
    "ExecuteTime": {
     "end_time": "2022-04-26T00:14:57.337439Z",
     "start_time": "2022-04-26T00:14:57.335Z"
    }
   },
   "outputs": [
    {
     "ename": "Error",
     "evalue": "lox error",
     "output_type": "error",
     "traceback": [
      "\u001b[1;31mError:\u001b[0m\nline 2: undefined variable y"
     ]
    }
   ],
   "source": [
    "// undefined assignment\n",
    "y = 1;"
   ]
  },
  {
   "cell_type": "code",
   "execution_count": 4,
   "id": "35881d1f",
   "metadata": {
    "ExecuteTime": {
     "end_time": "2022-04-26T00:15:00.210743Z",
     "start_time": "2022-04-26T00:15:00.208Z"
    }
   },
   "outputs": [
    {
     "data": {
      "text/plain": [
       "1\n",
       "2\n"
      ]
     },
     "execution_count": 4,
     "metadata": {},
     "output_type": "execute_result"
    }
   ],
   "source": [
    "// simple variable\n",
    "var x = 1;\n",
    "print x;\n",
    "\n",
    "x = x + 1;\n",
    "print x;"
   ]
  },
  {
   "cell_type": "code",
   "execution_count": 5,
   "id": "2784d488",
   "metadata": {
    "ExecuteTime": {
     "end_time": "2022-04-26T00:15:01.562959Z",
     "start_time": "2022-04-26T00:15:01.560Z"
    }
   },
   "outputs": [
    {
     "data": {
      "text/plain": [
       "3\n",
       "2\n"
      ]
     },
     "execution_count": 5,
     "metadata": {},
     "output_type": "execute_result"
    }
   ],
   "source": [
    "// shadowed variable\n",
    "{\n",
    "    var x = 3;\n",
    "    print x;\n",
    "}\n",
    "\n",
    "print x;"
   ]
  },
  {
   "cell_type": "code",
   "execution_count": 7,
   "id": "0278c267",
   "metadata": {
    "ExecuteTime": {
     "end_time": "2022-04-26T00:15:11.594380Z",
     "start_time": "2022-04-26T00:15:11.592Z"
    }
   },
   "outputs": [
    {
     "data": {
      "text/plain": []
     },
     "execution_count": 7,
     "metadata": {},
     "output_type": "execute_result"
    }
   ],
   "source": [
    "// expression statement\n",
    "x;"
   ]
  },
  {
   "cell_type": "code",
   "execution_count": 8,
   "id": "d708050e",
   "metadata": {
    "ExecuteTime": {
     "end_time": "2022-04-26T00:16:06.620205Z",
     "start_time": "2022-04-26T00:16:06.617Z"
    }
   },
   "outputs": [
    {
     "data": {
      "text/plain": [
       "1\n",
       "2\n",
       "1\n",
       "2\n"
      ]
     },
     "execution_count": 8,
     "metadata": {},
     "output_type": "execute_result"
    }
   ],
   "source": [
    "// more shadowing fun\n",
    "var x = 0;\n",
    "var y = 1;\n",
    "{\n",
    "    var x = x + 1;\n",
    "    {\n",
    "        y = x + 1;\n",
    "    }\n",
    "    print x;\n",
    "    print y;\n",
    "}\n",
    "x = x + 1;\n",
    "print x;\n",
    "print y;\n"
   ]
  },
  {
   "cell_type": "code",
   "execution_count": null,
   "id": "a3c31cbd",
   "metadata": {},
   "outputs": [],
   "source": []
  }
 ],
 "metadata": {
  "kernelspec": {
   "display_name": "Lox",
   "language": "lox",
   "name": "lox"
  },
  "language_info": {
   "codemirror_mode": "lox",
   "file_extension": ".lox",
   "mimetype": "text/lox",
   "name": "Lox",
   "pygment_lexer": "lox",
   "version": ""
  }
 },
 "nbformat": 4,
 "nbformat_minor": 5
}
